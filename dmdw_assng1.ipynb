{
 "cells": [
  {
   "cell_type": "code",
   "execution_count": 1,
   "metadata": {},
   "outputs": [
    {
     "name": "stdout",
     "output_type": "stream",
     "text": [
      "3 3 6 9 16 16 16 27 27 27 4 5 5 5\n",
      "Mean =  12.071428571428571\n",
      "Median =  12.5\n",
      "3\n",
      "each[0] =  16.0\n",
      "each[0] =  27.0\n",
      "each[0] =  5.0\n",
      "Mode =  [16.0, 27.0, 5.0]\n"
     ]
    }
   ],
   "source": [
    "from collections import Counter\n",
    "data=[float(i) for i in input().split()]\n",
    "n=len(data)\n",
    "mean=sum(data)/n\n",
    "print(\"Mean = \",mean)\n",
    "#calculation of median\n",
    "temp=data.copy()\n",
    "temp=sorted(temp)\n",
    "if n%2!=0:\n",
    "  print(\"Median = \",temp[n//2])\n",
    "else:\n",
    "  median=(temp[n//2]+temp[n//2+1])/2\n",
    "  print(\"Median = \",median)\n",
    "#calculation of mode\n",
    "cnt=Counter(data)\n",
    "maxi=max(cnt.items(),key= lambda x:x[1])[1]\n",
    "print(maxi)\n",
    "mode=[]\n",
    "for each in cnt.items():\n",
    "  if each[1]==maxi:\n",
    "    mode.append(each[0])\n",
    "    print(\"each[0] = \",each[0])\n",
    "if len(mode)==n:\n",
    "  print(\"Not found\")\n",
    "else:\n",
    "  print(\"Mode = \",mode)"
   ]
  },
  {
   "cell_type": "code",
   "execution_count": 2,
   "metadata": {},
   "outputs": [
    {
     "name": "stdout",
     "output_type": "stream",
     "text": [
      "25 26 27 30 32\n",
      "Variance =  6.8\n",
      "Standard Deviation =  2.6076809620810595\n"
     ]
    }
   ],
   "source": [
    "#calculation of variance\n",
    "data=[float(i) for i in input().split()]\n",
    "n=len(data)\n",
    "mean=sum(data)/n\n",
    "sum1=0\n",
    "for e in data:\n",
    "  sum1+=(e-mean)**2\n",
    "variance=sum1/n\n",
    "print('Variance = ',variance)\n",
    "#calculation of standard deviation\n",
    "std=variance**(0.5)\n",
    "print(\"Standard Deviation = \",std)"
   ]
  },
  {
   "cell_type": "code",
   "execution_count": 3,
   "metadata": {},
   "outputs": [
    {
     "name": "stdout",
     "output_type": "stream",
     "text": [
      "nikhil\n",
      "NO\n"
     ]
    }
   ],
   "source": [
    "#program to check a string is pallindrome or not\n",
    "s=input()\n",
    "if (s==s[::-1]):\n",
    "  print('YES')\n",
    "else:\n",
    "  print('NO')\n"
   ]
  },
  {
   "cell_type": "code",
   "execution_count": 4,
   "metadata": {},
   "outputs": [
    {
     "name": "stdout",
     "output_type": "stream",
     "text": [
      "4\n",
      "2\n"
     ]
    }
   ],
   "source": [
    "#program to find nth fibonacci number\n",
    "n=int(input())\n",
    "fibo=[0]*n\n",
    "fibo[0]=0;fibo[1]=1\n",
    "for i in range(2,n):\n",
    "  fibo[i]=fibo[i-1]+fibo[i-2]\n",
    "print(fibo[n-1])"
   ]
  },
  {
   "cell_type": "code",
   "execution_count": null,
   "metadata": {},
   "outputs": [],
   "source": []
  }
 ],
 "metadata": {
  "kernelspec": {
   "display_name": "Python 3",
   "language": "python",
   "name": "python3"
  },
  "language_info": {
   "codemirror_mode": {
    "name": "ipython",
    "version": 3
   },
   "file_extension": ".py",
   "mimetype": "text/x-python",
   "name": "python",
   "nbconvert_exporter": "python",
   "pygments_lexer": "ipython3",
   "version": "3.7.3"
  }
 },
 "nbformat": 4,
 "nbformat_minor": 2
}
